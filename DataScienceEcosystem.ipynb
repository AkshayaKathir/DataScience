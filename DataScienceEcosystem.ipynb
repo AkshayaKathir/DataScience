{
 "cells": [
  {
   "cell_type": "markdown",
   "id": "e6f1f3e3",
   "metadata": {},
   "source": [
    "# Data Science Tools and Ecosystem"
   ]
  },
  {
   "cell_type": "markdown",
   "id": "23fe9fc4",
   "metadata": {},
   "source": [
    "# Introduction\n",
    "\n",
    "In this notebook, we provide a summary of various Data Science tools and ecosystems. Data Science is an interdisciplinary field that combines statistical techniques, programming skills, and domain knowledge to extract insights from data. The tools and ecosystems in Data Science encompass a wide range of software, frameworks, and libraries that facilitate data collection, cleaning, analysis, visualization, and machine learning. This notebook will explore some of the key tools that are widely used by data scientists.\n"
   ]
  },
  {
   "cell_type": "markdown",
   "id": "9f2b32a1",
   "metadata": {},
   "source": [
    "**Objectives:**\n",
    "\n",
    "- Evaluate basic arithmetic expressions.\n",
    "- Convert time units, such as minutes to hours.\n",
    "- Understand how to comment code effectively.\n",
    "- List popular languages for Data Science.\n",
    "- Practice creating and running code cells in a notebook.\n"
   ]
  },
  {
   "cell_type": "markdown",
   "id": "1f736bcc",
   "metadata": {},
   "source": [
    "# Data Science Languages\n",
    "\n",
    "Some of the popular languages that Data Scientists use are:\n",
    "\n",
    "1. **Python** - Widely used for its simplicity, readability, and extensive libraries for data analysis and machine learning.\n",
    "2. **R** - A language specifically designed for statistical analysis and data visualization.\n",
    "3. **SQL** - Essential for managing and querying data stored in relational databases.\n",
    "4. **Julia** - Known for high-performance computing, especially in numerical and scientific computing.\n",
    "5. **Scala** - Often used with Apache Spark for big data processing.\n"
   ]
  },
  {
   "cell_type": "markdown",
   "id": "7a59494c",
   "metadata": {},
   "source": [
    "# Data Science Libraries\n",
    "\n",
    "Some of the commonly used libraries by Data Scientists include:\n",
    "\n",
    "1. **Pandas** - A powerful library for data manipulation and analysis, providing data structures like DataFrames.\n",
    "2. **NumPy** - Fundamental for numerical computing in Python, offering support for arrays, matrices, and a variety of mathematical functions.\n",
    "3. **Matplotlib** - A popular library for creating static, animated, and interactive visualizations in Python.\n",
    "4. **Scikit-learn** - A robust library for machine learning, offering tools for classification, regression, clustering, and more.\n",
    "5. **TensorFlow** - An open-source framework for building and deploying machine learning models, particularly deep learning models.\n"
   ]
  },
  {
   "cell_type": "markdown",
   "id": "f0c2ca03",
   "metadata": {},
   "source": [
    "# Data Science Tools\n",
    "\n",
    "| Data Science Tools         |\n",
    "|----------------------------|\n",
    "| Jupyter Notebooks          |\n",
    "| RStudio                    |\n",
    "| Apache Zeppelin            |\n"
   ]
  },
  {
   "cell_type": "markdown",
   "id": "5c51ad4e",
   "metadata": {},
   "source": [
    "### Below are a few examples of evaluating arithmetic expressions in Python.\n"
   ]
  },
  {
   "cell_type": "code",
   "execution_count": 1,
   "id": "f849b533",
   "metadata": {},
   "outputs": [
    {
     "data": {
      "text/plain": [
       "17"
      ]
     },
     "execution_count": 1,
     "metadata": {},
     "output_type": "execute_result"
    }
   ],
   "source": [
    "# This is a simple arithmetic expression to multiply then add integers.\n",
    "result = (3*4) + 5\n",
    "result\n"
   ]
  },
  {
   "cell_type": "code",
   "execution_count": 2,
   "id": "e5e4534d",
   "metadata": {},
   "outputs": [
    {
     "data": {
      "text/plain": [
       "3.3333333333333335"
      ]
     },
     "execution_count": 2,
     "metadata": {},
     "output_type": "execute_result"
    }
   ],
   "source": [
    "# This will convert 200 minutes to hours by dividing by 60.\n",
    "hours = 200 / 60\n",
    "hours\n"
   ]
  },
  {
   "cell_type": "markdown",
   "id": "6fa94024",
   "metadata": {},
   "source": [
    "## Author\n",
    "\n",
    "Akshaya K \n"
   ]
  },
  {
   "cell_type": "code",
   "execution_count": null,
   "id": "31549e36",
   "metadata": {},
   "outputs": [],
   "source": []
  }
 ],
 "metadata": {
  "kernelspec": {
   "display_name": "Python 3",
   "language": "python",
   "name": "python3"
  },
  "language_info": {
   "codemirror_mode": {
    "name": "ipython",
    "version": 3
   },
   "file_extension": ".py",
   "mimetype": "text/x-python",
   "name": "python",
   "nbconvert_exporter": "python",
   "pygments_lexer": "ipython3",
   "version": "3.8.8"
  }
 },
 "nbformat": 4,
 "nbformat_minor": 5
}
